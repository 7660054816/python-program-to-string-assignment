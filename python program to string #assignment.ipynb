{
 "cells": [
  {
   "cell_type": "code",
   "execution_count": 4,
   "id": "bfb04717",
   "metadata": {},
   "outputs": [],
   "source": [
    "#write a python program to convert a string to lower case"
   ]
  },
  {
   "cell_type": "code",
   "execution_count": 5,
   "id": "dce81ca6",
   "metadata": {},
   "outputs": [
    {
     "name": "stdout",
     "output_type": "stream",
     "text": [
      "enter a string:ameem\n"
     ]
    },
    {
     "data": {
      "text/plain": [
       "'ameem'"
      ]
     },
     "execution_count": 5,
     "metadata": {},
     "output_type": "execute_result"
    }
   ],
   "source": [
    "x=input(\"enter a string:\")\n",
    "x.lower()"
   ]
  },
  {
   "cell_type": "code",
   "execution_count": 8,
   "id": "ae0c1d01",
   "metadata": {},
   "outputs": [],
   "source": [
    "#write a python program to convert only odd indexed characters to lower case"
   ]
  },
  {
   "cell_type": "code",
   "execution_count": 11,
   "id": "cc9d9ce2",
   "metadata": {},
   "outputs": [
    {
     "name": "stdout",
     "output_type": "stream",
     "text": [
      "enter a string:ameem\n",
      "a\n",
      "am\n",
      "ame\n",
      "amee\n",
      "ameem\n"
     ]
    }
   ],
   "source": [
    "x=input(\"enter a string:\")\n",
    "a=\"\"\n",
    "for letters in range(0,len(x)):\n",
    "    if letters%2!=0:\n",
    "        a=a+x[letters].lower()\n",
    "    else:\n",
    "        a=a+x[letters]\n",
    "    print(a)"
   ]
  },
  {
   "cell_type": "code",
   "execution_count": 12,
   "id": "ab393830",
   "metadata": {},
   "outputs": [],
   "source": [
    "#write a python to convert only even indexed characters to lower case"
   ]
  },
  {
   "cell_type": "code",
   "execution_count": 13,
   "id": "8915aeed",
   "metadata": {},
   "outputs": [
    {
     "name": "stdout",
     "output_type": "stream",
     "text": [
      "shaik ameem\n",
      "s\n",
      "sh\n",
      "sha\n",
      "shai\n",
      "shaik\n",
      "shaik \n",
      "shaik a\n",
      "shaik am\n",
      "shaik ame\n",
      "shaik amee\n",
      "shaik ameem\n"
     ]
    }
   ],
   "source": [
    "x=input()\n",
    "a=\"\"\n",
    "for index in range(0,len(x)):\n",
    "    if index%2==0:\n",
    "        a=a+x[index].lower()\n",
    "    else:\n",
    "        a=a+x[index]\n",
    "    print(a)"
   ]
  },
  {
   "cell_type": "code",
   "execution_count": null,
   "id": "d76a3376",
   "metadata": {},
   "outputs": [],
   "source": []
  }
 ],
 "metadata": {
  "kernelspec": {
   "display_name": "Python 3 (ipykernel)",
   "language": "python",
   "name": "python3"
  },
  "language_info": {
   "codemirror_mode": {
    "name": "ipython",
    "version": 3
   },
   "file_extension": ".py",
   "mimetype": "text/x-python",
   "name": "python",
   "nbconvert_exporter": "python",
   "pygments_lexer": "ipython3",
   "version": "3.9.13"
  }
 },
 "nbformat": 4,
 "nbformat_minor": 5
}
